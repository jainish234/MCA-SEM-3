{
 "cells": [
  {
   "cell_type": "code",
   "execution_count": null,
   "id": "2770c14f-a43a-4ffd-86be-3baaabd76893",
   "metadata": {},
   "outputs": [],
   "source": []
  }
 ],
 "metadata": {
  "kernelspec": {
   "display_name": "",
   "name": ""
  },
  "language_info": {
   "name": ""
  }
 },
 "nbformat": 4,
 "nbformat_minor": 5
}
