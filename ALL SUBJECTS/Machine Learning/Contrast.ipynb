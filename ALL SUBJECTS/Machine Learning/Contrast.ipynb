{
 "cells": [
  {
   "cell_type": "markdown",
   "id": "a728ef6c-4f9c-4a64-b71e-02bb3fbea648",
   "metadata": {},
   "source": [
    "Contrast"
   ]
  },
  {
   "cell_type": "code",
   "execution_count": 2,
   "id": "86665e57-971d-4d86-b37a-1231fa692395",
   "metadata": {},
   "outputs": [
    {
     "ename": "SyntaxError",
     "evalue": "incomplete input (1877972829.py, line 8)",
     "output_type": "error",
     "traceback": [
      "\u001b[1;36m  Cell \u001b[1;32mIn[2], line 8\u001b[1;36m\u001b[0m\n\u001b[1;33m    plt.subplot(1,2,2),plt.imshow(img1,cmap='gray'\u001b[0m\n\u001b[1;37m                                                  ^\u001b[0m\n\u001b[1;31mSyntaxError\u001b[0m\u001b[1;31m:\u001b[0m incomplete input\n"
     ]
    }
   ],
   "source": [
    "import cv2\n",
    "import matplotlib.pyplot as plt\n",
    "import numpy as np\n",
    "from matplotlib import rcParams\n",
    "img = cv2.imread('flower.jpeg',0)\n",
    "img1 = cv2.equalizeHist(img)\n",
    "plt.subplot(1,2,1),plt.imshow(img,cmap='gray')\n",
    "plt.subplot(1,2,2),plt.imshow(img1,cmap='gray')"
   ]
  },
  {
   "cell_type": "code",
   "execution_count": null,
   "id": "decefedf-1785-404d-902a-53364905b891",
   "metadata": {},
   "outputs": [],
   "source": []
  }
 ],
 "metadata": {
  "kernelspec": {
   "display_name": "Python 3 (ipykernel)",
   "language": "python",
   "name": "python3"
  },
  "language_info": {
   "codemirror_mode": {
    "name": "ipython",
    "version": 3
   },
   "file_extension": ".py",
   "mimetype": "text/x-python",
   "name": "python",
   "nbconvert_exporter": "python",
   "pygments_lexer": "ipython3",
   "version": "3.12.4"
  }
 },
 "nbformat": 4,
 "nbformat_minor": 5
}
